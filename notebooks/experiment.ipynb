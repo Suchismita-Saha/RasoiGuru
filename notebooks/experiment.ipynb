{
 "cells": [
  {
   "cell_type": "markdown",
   "metadata": {},
   "source": [
    "Importing necessary libraries"
   ]
  },
  {
   "cell_type": "code",
   "execution_count": 1,
   "metadata": {},
   "outputs": [
    {
     "name": "stderr",
     "output_type": "stream",
     "text": [
      "e:\\Learnings\\CookingApp\\RasoiGuru\\venv\\lib\\site-packages\\pinecone\\data\\index.py:1: TqdmWarning: IProgress not found. Please update jupyter and ipywidgets. See https://ipywidgets.readthedocs.io/en/stable/user_install.html\n",
      "  from tqdm.autonotebook import tqdm\n"
     ]
    }
   ],
   "source": [
    "import os\n",
    "from dotenv import load_dotenv\n",
    "from langchain_groq import ChatGroq\n",
    "from langchain.tools import WikipediaQueryRun\n",
    "from langchain_community.utilities import WikipediaAPIWrapper\n",
    "from langchain_community.document_loaders import PyPDFLoader\n",
    "from pathlib import Path\n",
    "from langchain_text_splitters import RecursiveCharacterTextSplitter\n",
    "from langchain_cohere import CohereEmbeddings\n",
    "from pinecone import Pinecone, ServerlessSpec\n",
    "from langchain_pinecone import PineconeVectorStore\n",
    "from langchain.tools.retriever import create_retriever_tool\n",
    "from langchain.chains.conversation.memory import ConversationBufferWindowMemory\n",
    "from langchain.agents import AgentExecutor, Tool, create_tool_calling_agent\n",
    "from langchain_core.prompts import PromptTemplate\n",
    "import time"
   ]
  },
  {
   "cell_type": "markdown",
   "metadata": {},
   "source": [
    "Setting Environment Variables from .env File"
   ]
  },
  {
   "cell_type": "code",
   "execution_count": 2,
   "metadata": {},
   "outputs": [],
   "source": [
    "# Load environment variables from a .env file\n",
    "load_dotenv()\n",
    "\n",
    "# Set the GROQ_API_KEY environment variable to the value retrieved from .env file\n",
    "os.environ[\"GROQ_API_KEY\"] = os.getenv(\"GROQ_API_KEY\")\n",
    "\n",
    "# Set the COHERE_API_KEY environment variable to the value retrieved from .env file\n",
    "os.environ[\"COHERE_API_KEY\"] = os.getenv(\"COHERE_API_KEY\")\n",
    "\n",
    "# Set the PINECONE_API_KEY environment variable to the value retrieved from .env file\n",
    "os.environ[\"PINECONE_API_KEY\"] = os.getenv(\"PINECONE_API_KEY\")\n",
    "\n",
    "# Enable Langsmith tracking by setting the LANGCHAIN_TRACING_V2 environment variable to \"true\"\n",
    "os.environ[\"LANGCHAIN_TRACING_V2\"] = \"true\"\n",
    "\n",
    "# Set the LANGCHAIN_API_KEY environment variable to the value retrieved from .env file\n",
    "os.environ[\"LANGCHAIN_API_KEY\"] = os.getenv(\"LANGCHAIN_API_KEY\")\n"
   ]
  },
  {
   "cell_type": "markdown",
   "metadata": {},
   "source": [
    "Set up a Wikipedia API wrapper with customized parameters"
   ]
  },
  {
   "cell_type": "code",
   "execution_count": 3,
   "metadata": {},
   "outputs": [],
   "source": [
    "# Define the Wikipedia tool\n",
    "wiki_tool = WikipediaQueryRun(\n",
    "    api_wrapper=WikipediaAPIWrapper(\n",
    "        top_k_results=1,\n",
    "        load_all_available_meta=False,\n",
    "        doc_content_chars_max=500\n",
    "    )\n",
    ")"
   ]
  },
  {
   "cell_type": "markdown",
   "metadata": {},
   "source": [
    "Define a tool object for accessing Wikipedia information"
   ]
  },
  {
   "cell_type": "code",
   "execution_count": 4,
   "metadata": {},
   "outputs": [],
   "source": [
    "wiki_tool= Tool(\n",
    "        name='Wikipedia',\n",
    "        description='look up things in wikipedia for knowing about food recipes, cooking instructions and their history',\n",
    "        func=wiki_tool.invoke\n",
    "    )"
   ]
  },
  {
   "cell_type": "markdown",
   "metadata": {},
   "source": [
    "Setting Up Path to 'data' Directory Located in Parent Directory"
   ]
  },
  {
   "cell_type": "code",
   "execution_count": 12,
   "metadata": {},
   "outputs": [],
   "source": [
    "# Get the current working directory\n",
    "current_path = Path().resolve()\n",
    "\n",
    "# Get the parent directory of the current working directory\n",
    "parent_path = current_path.parent\n",
    "\n",
    "# Construct the path to the 'data' directory located in the parent directory\n",
    "data_path = parent_path / 'data'"
   ]
  },
  {
   "cell_type": "markdown",
   "metadata": {},
   "source": [
    "Iterate through files in the specified data path"
   ]
  },
  {
   "cell_type": "code",
   "execution_count": 13,
   "metadata": {},
   "outputs": [],
   "source": [
    "pdf_files = []  # Initialize an empty list to store PDF files.\n",
    "for file in data_path.iterdir():  # Iterate through each file in the data path.\n",
    "    if file.is_file() and file.name.endswith('.pdf'):  # Check if the file is a regular file and has a .pdf extension.\n",
    "        pdf_files.append(file)  # If the file meets the criteria, append it to the list of PDF files."
   ]
  },
  {
   "cell_type": "code",
   "execution_count": 14,
   "metadata": {},
   "outputs": [
    {
     "data": {
      "text/plain": [
       "[WindowsPath('E:/Learnings/CookingApp/RasoiGuru/data/BHM-401T.pdf'),\n",
       " WindowsPath('E:/Learnings/CookingApp/RasoiGuru/data/Book1.pdf'),\n",
       " WindowsPath('E:/Learnings/CookingApp/RasoiGuru/data/Professional_Cooking.pdf'),\n",
       " WindowsPath('E:/Learnings/CookingApp/RasoiGuru/data/USU-Student-Cookbook-FINAL-1.pdf')]"
      ]
     },
     "execution_count": 14,
     "metadata": {},
     "output_type": "execute_result"
    }
   ],
   "source": [
    "pdf_files"
   ]
  },
  {
   "cell_type": "markdown",
   "metadata": {},
   "source": [
    "Loading PDF Documents into a List"
   ]
  },
  {
   "cell_type": "code",
   "execution_count": 8,
   "metadata": {},
   "outputs": [],
   "source": [
    "docs = []  # Initialize an empty list to store loaded documents.\n",
    "\n",
    "for filepath in pdf_files:  # Iterate through each filepath in the list of PDF files.\n",
    "    loader = PyPDFLoader(filepath)  # Create a PyPDFLoader object for the current filepath.\n",
    "    docs.append(loader.load())  # Load the document using the PyPDFLoader and append it to the list of documents."
   ]
  },
  {
   "cell_type": "markdown",
   "metadata": {},
   "source": [
    "Splitting Loaded PDF Documents into Chunks\n"
   ]
  },
  {
   "cell_type": "code",
   "execution_count": 9,
   "metadata": {},
   "outputs": [],
   "source": [
    "documents = []  # Initialize an empty list to store the chunks of documents.\n",
    "\n",
    "# Initialize a text splitter with specified chunk size and overlap.\n",
    "text_splitter = RecursiveCharacterTextSplitter(chunk_size=1000, chunk_overlap=20)\n",
    "\n",
    "for doc in docs:  # Iterate through each loaded document in the docs list.\n",
    "    splitted_docs = text_splitter.split_documents(doc)  # Split the document into chunks using the text splitter.\n",
    "    documents.append(splitted_docs)  # Append the list of chunks to the documents list."
   ]
  },
  {
   "cell_type": "code",
   "execution_count": 10,
   "metadata": {},
   "outputs": [
    {
     "data": {
      "text/plain": [
       "4"
      ]
     },
     "execution_count": 10,
     "metadata": {},
     "output_type": "execute_result"
    }
   ],
   "source": [
    "len(documents)"
   ]
  },
  {
   "cell_type": "markdown",
   "metadata": {},
   "source": [
    "Initializing the Embedding Model\n"
   ]
  },
  {
   "cell_type": "code",
   "execution_count": 5,
   "metadata": {},
   "outputs": [],
   "source": [
    "embedding_model= CohereEmbeddings()"
   ]
  },
  {
   "cell_type": "markdown",
   "metadata": {},
   "source": [
    "Extracting Page Contents from Document Chunks\n"
   ]
  },
  {
   "cell_type": "code",
   "execution_count": null,
   "metadata": {},
   "outputs": [],
   "source": [
    "contents = []  # Initialize an empty list to store page contents of documents.\n",
    "\n",
    "for document in documents:  # Iterate through each document chunk in the documents list.\n",
    "    page_content = []  # Initialize an empty list to store page contents of the current document.\n",
    "    \n",
    "    # Iterate through each page in the current document chunk.\n",
    "    for page in range(0, len(document)):\n",
    "        page_content.append(document[page].page_content)  # Append the page content to the page_content list.\n",
    "    \n",
    "    contents.append(page_content)  # Append the page_content list to the contents list."
   ]
  },
  {
   "cell_type": "markdown",
   "metadata": {},
   "source": [
    "Initializing Pinecone \n"
   ]
  },
  {
   "cell_type": "code",
   "execution_count": 6,
   "metadata": {},
   "outputs": [],
   "source": [
    "pc = Pinecone()"
   ]
  },
  {
   "cell_type": "markdown",
   "metadata": {},
   "source": [
    "Configuring Pinecone Index Settings\n"
   ]
  },
  {
   "cell_type": "code",
   "execution_count": 7,
   "metadata": {},
   "outputs": [],
   "source": [
    "# Define the name of the Pinecone index.\n",
    "index_name = \"rasoiguru\"  \n",
    "# Retrieve the cloud provider from environment variables or default to 'aws'.\n",
    "cloud = os.environ.get('PINECONE_CLOUD') or 'aws' \n",
    "# Retrieve the region from environment variables or default to 'us-east-1'.\n",
    "region = os.environ.get('PINECONE_REGION') or 'us-east-1'  \n",
    "# Create a serverless specification object with the specified cloud and region.\n",
    "spec = ServerlessSpec(cloud=cloud, region=region) "
   ]
  },
  {
   "cell_type": "markdown",
   "metadata": {},
   "source": [
    "Checking and Creating Pinecone Index\n"
   ]
  },
  {
   "cell_type": "code",
   "execution_count": 8,
   "metadata": {},
   "outputs": [],
   "source": [
    "if index_name not in pc.list_indexes().names():  # Check if the specified index name does not exist.\n",
    "    # Create a new index with specified parameters.\n",
    "    pc.create_index(\n",
    "        index_name,  # Specify the name of the index to be created.\n",
    "        dimension=4096,  # Specify the dimension of the vector embeddings.\n",
    "        metric='cosine',  # Specify the distance metric for similarity search.\n",
    "        spec=spec  # Specify the serverless specification for deployment.\n",
    "    )"
   ]
  },
  {
   "cell_type": "markdown",
   "metadata": {},
   "source": [
    "Accessing and Describing Pinecone Index\n"
   ]
  },
  {
   "cell_type": "code",
   "execution_count": 9,
   "metadata": {},
   "outputs": [
    {
     "data": {
      "text/plain": [
       "{'dimension': 4096,\n",
       " 'index_fullness': 0.0,\n",
       " 'namespaces': {'nsBHM-401T': {'vector_count': 245},\n",
       "                'nsBook1': {'vector_count': 3400},\n",
       "                'nsProfessional_Cooking': {'vector_count': 3863},\n",
       "                'nsUSU-Student-Cookbook': {'vector_count': 185}},\n",
       " 'total_vector_count': 7693}"
      ]
     },
     "execution_count": 9,
     "metadata": {},
     "output_type": "execute_result"
    }
   ],
   "source": [
    "index = pc.Index(index_name)  # Access the Pinecone index with the specified index name.\n",
    "\n",
    "# Wait briefly for connection before describing index stats.\n",
    "time.sleep(1)\n",
    "\n",
    "index.describe_index_stats()  # Describe the statistics of the Pinecone index."
   ]
  },
  {
   "cell_type": "markdown",
   "metadata": {},
   "source": [
    "Generating Namespace Names for PDF Files"
   ]
  },
  {
   "cell_type": "code",
   "execution_count": 15,
   "metadata": {},
   "outputs": [],
   "source": [
    "\n",
    "# Generate namespace names for each PDF file.\n",
    "ns = [\"ns\" + path.stem for path in pdf_files]"
   ]
  },
  {
   "cell_type": "markdown",
   "metadata": {},
   "source": [
    "Creating or Retrieving Vector Stores\n"
   ]
  },
  {
   "cell_type": "code",
   "execution_count": 16,
   "metadata": {},
   "outputs": [],
   "source": [
    "vectorstores = []  # Initialize an empty list to store vector stores.\n",
    "\n",
    "if index.describe_index_stats()['total_vector_count'] == 0:  # Check if no vectors are present in the index.\n",
    "    # Create vector stores from document contents.\n",
    "    for namespace, content in zip(ns, contents):  # Iterate through namespaces and corresponding document contents.\n",
    "        vectorstore = PineconeVectorStore.from_texts(\n",
    "            texts=content,  # Provide the document contents as texts.\n",
    "            index_name=index_name,  # Specify the name of the Pinecone index.\n",
    "            embedding=embedding_model,  # Specify the embedding model for generating vectors.\n",
    "            namespace=namespace  # Specify the namespace for the vector store.\n",
    "        )\n",
    "        vectorstores.append(vectorstore)  # Append the created vector store to the list.\n",
    "\n",
    "else:\n",
    "    # Retrieve vector stores from an existing index.\n",
    "    for namespace in ns:  # Iterate through namespaces.\n",
    "        vectorstore = PineconeVectorStore.from_existing_index(\n",
    "            index_name,  # Specify the name of the Pinecone index.\n",
    "            embedding_model,  # Specify the embedding model used in the index.\n",
    "            namespace=namespace  # Specify the namespace for the vector store.\n",
    "        )\n",
    "        vectorstores.append(vectorstore)  # Append the retrieved vector store to the list."
   ]
  },
  {
   "cell_type": "code",
   "execution_count": 17,
   "metadata": {},
   "outputs": [
    {
     "data": {
      "text/plain": [
       "[<langchain_pinecone.vectorstores.PineconeVectorStore at 0x1c777040430>,\n",
       " <langchain_pinecone.vectorstores.PineconeVectorStore at 0x1c77712b0a0>,\n",
       " <langchain_pinecone.vectorstores.PineconeVectorStore at 0x1c77702fbb0>,\n",
       " <langchain_pinecone.vectorstores.PineconeVectorStore at 0x1c777017340>]"
      ]
     },
     "execution_count": 17,
     "metadata": {},
     "output_type": "execute_result"
    }
   ],
   "source": [
    "vectorstores"
   ]
  },
  {
   "cell_type": "markdown",
   "metadata": {},
   "source": [
    "Converting Vector Stores to Retrievers\n"
   ]
  },
  {
   "cell_type": "code",
   "execution_count": 18,
   "metadata": {},
   "outputs": [],
   "source": [
    "retrievers = []  # Initialize an empty list to store retrievers.\n",
    "\n",
    "for vectorstore in vectorstores:  # Iterate through each vector store.\n",
    "    retriever = vectorstore.as_retriever()  # Convert the vector store to a retriever.\n",
    "    retrievers.append(retriever)  # Append the retriever to the list."
   ]
  },
  {
   "cell_type": "code",
   "execution_count": 19,
   "metadata": {},
   "outputs": [
    {
     "data": {
      "text/plain": [
       "[VectorStoreRetriever(tags=['PineconeVectorStore', 'CohereEmbeddings'], vectorstore=<langchain_pinecone.vectorstores.PineconeVectorStore object at 0x000001C777040430>),\n",
       " VectorStoreRetriever(tags=['PineconeVectorStore', 'CohereEmbeddings'], vectorstore=<langchain_pinecone.vectorstores.PineconeVectorStore object at 0x000001C77712B0A0>),\n",
       " VectorStoreRetriever(tags=['PineconeVectorStore', 'CohereEmbeddings'], vectorstore=<langchain_pinecone.vectorstores.PineconeVectorStore object at 0x000001C77702FBB0>),\n",
       " VectorStoreRetriever(tags=['PineconeVectorStore', 'CohereEmbeddings'], vectorstore=<langchain_pinecone.vectorstores.PineconeVectorStore object at 0x000001C777017340>)]"
      ]
     },
     "execution_count": 19,
     "metadata": {},
     "output_type": "execute_result"
    }
   ],
   "source": [
    "retrievers"
   ]
  },
  {
   "cell_type": "markdown",
   "metadata": {},
   "source": [
    "Creating Search Tools\n"
   ]
  },
  {
   "cell_type": "code",
   "execution_count": 20,
   "metadata": {},
   "outputs": [],
   "source": [
    "tools = []  # Initialize an empty list to store search tools.\n",
    "\n",
    "# Lists containing tool names and descriptions\n",
    "tools_name = [\n",
    "    'BHM-401T_pdf_search',\n",
    "    'Book1_pdf_search',\n",
    "    'Professional_Cooking_pdf_search',\n",
    "    'USU-Student-Cookbook-FINAL-1_pdf_search'\n",
    "]\n",
    "\n",
    "tools_desc = [\n",
    "    \"Indian food cooking and heritage related information use this tool\",\n",
    "    \"For information related to any ingredient use this tool\",\n",
    "    \"For professional cooking techniques, sanitization and safety in kitchen and food presentation tips use this tool\",\n",
    "    \"For specific information about quick recipes for students and seasonal grocery shopping use this tool\"\n",
    "]\n",
    "\n",
    "# Create search tools for each retriever and append them to the tools list\n",
    "for name, desc, retv in zip(tools_name, tools_desc, retrievers):\n",
    "    pdf_tool = create_retriever_tool(retv, name, desc, document_prompt=\"Search the query\")  # Create a search tool for each retriever\n",
    "    tools.append(pdf_tool)  # Append the search tool to the tools list\n",
    "\n",
    "# Append the Wikipedia tool to the tools list\n",
    "tools.append(wiki_tool)  # Append the Wikipedia tool to the tools list"
   ]
  },
  {
   "cell_type": "code",
   "execution_count": 21,
   "metadata": {},
   "outputs": [
    {
     "data": {
      "text/plain": [
       "5"
      ]
     },
     "execution_count": 21,
     "metadata": {},
     "output_type": "execute_result"
    }
   ],
   "source": [
    "len(tools)"
   ]
  },
  {
   "cell_type": "markdown",
   "metadata": {},
   "source": [
    "Initializing Large Language Model"
   ]
  },
  {
   "cell_type": "code",
   "execution_count": 22,
   "metadata": {},
   "outputs": [],
   "source": [
    "llm = ChatGroq(model=\"mixtral-8x7b-32768\")"
   ]
  },
  {
   "cell_type": "markdown",
   "metadata": {},
   "source": [
    "Setting System Instructions"
   ]
  },
  {
   "cell_type": "code",
   "execution_count": 23,
   "metadata": {},
   "outputs": [],
   "source": [
    "system_instruction= \"\"\"\n",
    "You are a helpful cooking assistant named Rasoiguru.\\\n",
    "Greet the user\\\n",
    "Answer the following questions as best you can in terms of a passionate and helpful  professional cooking assistant\\\n",
    "\"\"\""
   ]
  },
  {
   "cell_type": "markdown",
   "metadata": {},
   "source": [
    "Prompt Format Definition for Agent Responses\n"
   ]
  },
  {
   "cell_type": "code",
   "execution_count": 24,
   "metadata": {},
   "outputs": [],
   "source": [
    "format= \"\"\"\n",
    "Use the following format:\n",
    "\n",
    "Use the chat history which will be provided to you for understanding the context of the most recent conversation incase user query is not clearly defined\\\n",
    "Question: the input question you must answer\\\n",
    "Thought: you should always think about what to do\\\n",
    "Action: the action to take, should be one of the provided tools\\\n",
    "Action Input: the input to the action\n",
    "Observation: the result of the action\n",
    "... (this Thought/Action/Action Input/Observation can repeat N times)\n",
    "Thought: I now know the final answer\n",
    "Final Answer: the final answer to the original input question\n",
    "## You need to always give an final answer\n",
    "\n",
    "Remember to answer as a compansionate professional cooking assistant when giving your final answer.\n",
    "\"\"\""
   ]
  },
  {
   "cell_type": "markdown",
   "metadata": {},
   "source": [
    "Prompt Template Configuration\n"
   ]
  },
  {
   "cell_type": "code",
   "execution_count": 25,
   "metadata": {},
   "outputs": [],
   "source": [
    "prefix = f\"\"\" You have access to the following tools:\n",
    "Tools:\n",
    "{tools}\n",
    "Instruction:\n",
    "{system_instruction}.\n",
    "\"\"\"\n",
    "\n",
    "suffix = \"\"\"Begin!Now answer the question\n",
    "{intermediate_steps}\n",
    "Chat history:\n",
    "{chat_history}\n",
    "Question: {input}\n",
    "{agent_scratchpad}\n",
    "## In case the user query is not about food cooking, grocery shopping and history of food the  reply\\\n",
    "then reply I do not know the answer to your question.\n",
    "\"\"\"\n",
    "\n",
    "prompt = PromptTemplate(\n",
    "    input_variables=[\"input\", \"chat_history\", \"intermediate_steps\", \"agent_scratchpad\"],\n",
    "    template= prefix + format + suffix\n",
    ")"
   ]
  },
  {
   "cell_type": "code",
   "execution_count": 26,
   "metadata": {},
   "outputs": [
    {
     "data": {
      "text/plain": [
       "PromptTemplate(input_variables=['agent_scratchpad', 'chat_history', 'input', 'intermediate_steps'], template=\" You have access to the following tools:\\nTools:\\n[Tool(name='BHM-401T_pdf_search', description='Indian food cooking and heritage related information use this tool', args_schema=<class 'langchain_core.tools.RetrieverInput'>, func=functools.partial(<function _get_relevant_documents at 0x000001C7664E1750>, retriever=VectorStoreRetriever(tags=['PineconeVectorStore', 'CohereEmbeddings'], vectorstore=<langchain_pinecone.vectorstores.PineconeVectorStore object at 0x000001C777040430>), document_prompt='Search the query', document_separator='\\\\n\\\\n'), coroutine=functools.partial(<function _aget_relevant_documents at 0x000001C7664E1900>, retriever=VectorStoreRetriever(tags=['PineconeVectorStore', 'CohereEmbeddings'], vectorstore=<langchain_pinecone.vectorstores.PineconeVectorStore object at 0x000001C777040430>), document_prompt='Search the query', document_separator='\\\\n\\\\n')), Tool(name='Book1_pdf_search', description='For information related to any ingredient use this tool', args_schema=<class 'langchain_core.tools.RetrieverInput'>, func=functools.partial(<function _get_relevant_documents at 0x000001C7664E1750>, retriever=VectorStoreRetriever(tags=['PineconeVectorStore', 'CohereEmbeddings'], vectorstore=<langchain_pinecone.vectorstores.PineconeVectorStore object at 0x000001C77712B0A0>), document_prompt='Search the query', document_separator='\\\\n\\\\n'), coroutine=functools.partial(<function _aget_relevant_documents at 0x000001C7664E1900>, retriever=VectorStoreRetriever(tags=['PineconeVectorStore', 'CohereEmbeddings'], vectorstore=<langchain_pinecone.vectorstores.PineconeVectorStore object at 0x000001C77712B0A0>), document_prompt='Search the query', document_separator='\\\\n\\\\n')), Tool(name='Professional_Cooking_pdf_search', description='For professional cooking techniques, sanitization and safety in kitchen and food presentation tips use this tool', args_schema=<class 'langchain_core.tools.RetrieverInput'>, func=functools.partial(<function _get_relevant_documents at 0x000001C7664E1750>, retriever=VectorStoreRetriever(tags=['PineconeVectorStore', 'CohereEmbeddings'], vectorstore=<langchain_pinecone.vectorstores.PineconeVectorStore object at 0x000001C77702FBB0>), document_prompt='Search the query', document_separator='\\\\n\\\\n'), coroutine=functools.partial(<function _aget_relevant_documents at 0x000001C7664E1900>, retriever=VectorStoreRetriever(tags=['PineconeVectorStore', 'CohereEmbeddings'], vectorstore=<langchain_pinecone.vectorstores.PineconeVectorStore object at 0x000001C77702FBB0>), document_prompt='Search the query', document_separator='\\\\n\\\\n')), Tool(name='USU-Student-Cookbook-FINAL-1_pdf_search', description='For specific information about quick recipes for students and seasonal grocery shopping use this tool', args_schema=<class 'langchain_core.tools.RetrieverInput'>, func=functools.partial(<function _get_relevant_documents at 0x000001C7664E1750>, retriever=VectorStoreRetriever(tags=['PineconeVectorStore', 'CohereEmbeddings'], vectorstore=<langchain_pinecone.vectorstores.PineconeVectorStore object at 0x000001C777017340>), document_prompt='Search the query', document_separator='\\\\n\\\\n'), coroutine=functools.partial(<function _aget_relevant_documents at 0x000001C7664E1900>, retriever=VectorStoreRetriever(tags=['PineconeVectorStore', 'CohereEmbeddings'], vectorstore=<langchain_pinecone.vectorstores.PineconeVectorStore object at 0x000001C777017340>), document_prompt='Search the query', document_separator='\\\\n\\\\n')), Tool(name='Wikipedia', description='look up things in wikipedia for knowing about food recipes, cooking instructions and their history', func=<bound method BaseTool.invoke of WikipediaQueryRun(api_wrapper=WikipediaAPIWrapper(wiki_client=<module 'wikipedia' from 'e:\\\\\\\\Learnings\\\\\\\\CookingApp\\\\\\\\RasoiGuru\\\\\\\\venv\\\\\\\\lib\\\\\\\\site-packages\\\\\\\\wikipedia\\\\\\\\__init__.py'>, top_k_results=1, lang='en', load_all_available_meta=False, doc_content_chars_max=500))>)]\\nInstruction:\\n\\nYou are a helpful cooking assistant named Rasoiguru.Greet the userAnswer the following questions as best you can in terms of a passionate and helpful  professional cooking assistant.\\n\\nUse the following format:\\n\\nUse the chat history which will be provided to you for understanding the context of the most recent conversation incase user query is not clearly definedQuestion: the input question you must answerThought: you should always think about what to doAction: the action to take, should be one of the provided toolsAction Input: the input to the action\\nObservation: the result of the action\\n... (this Thought/Action/Action Input/Observation can repeat N times)\\nThought: I now know the final answer\\nFinal Answer: the final answer to the original input question\\n## You need to always give an final answer\\n\\nRemember to answer as a compansionate professional cooking assistant when giving your final answer.\\nBegin!Now answer the question\\n{intermediate_steps}\\nChat history:\\n{chat_history}\\nQuestion: {input}\\n{agent_scratchpad}\\n## In case the user query is not about food cooking, grocery shopping and history of food the  replythen reply I do not know the answer to your question.\\n\")"
      ]
     },
     "execution_count": 26,
     "metadata": {},
     "output_type": "execute_result"
    }
   ],
   "source": [
    "prompt"
   ]
  },
  {
   "cell_type": "markdown",
   "metadata": {},
   "source": [
    "Agent Creation with Tool Integration\n"
   ]
  },
  {
   "cell_type": "code",
   "execution_count": 27,
   "metadata": {},
   "outputs": [],
   "source": [
    "agent= create_tool_calling_agent(llm,tools= tools,  prompt= prompt)"
   ]
  },
  {
   "cell_type": "markdown",
   "metadata": {},
   "source": [
    "Memory Integration for Agent Interaction\n"
   ]
  },
  {
   "cell_type": "code",
   "execution_count": 28,
   "metadata": {},
   "outputs": [],
   "source": [
    "memory= ConversationBufferWindowMemory(k=3,return_messages=True, memory_key= \"chat_history\")"
   ]
  },
  {
   "cell_type": "markdown",
   "metadata": {},
   "source": [
    "Agent Executor Initialization"
   ]
  },
  {
   "cell_type": "code",
   "execution_count": 29,
   "metadata": {},
   "outputs": [],
   "source": [
    "agent_executor = AgentExecutor(agent=agent, tools=tools, verbose=True, memory=memory)\n"
   ]
  },
  {
   "cell_type": "markdown",
   "metadata": {},
   "source": [
    "Agent Executor: Task Invocation \n"
   ]
  },
  {
   "cell_type": "code",
   "execution_count": 30,
   "metadata": {},
   "outputs": [
    {
     "name": "stdout",
     "output_type": "stream",
     "text": [
      "\n",
      "\n",
      "\u001b[1m> Entering new AgentExecutor chain...\u001b[0m\n",
      "\u001b[32;1m\u001b[1;3mThought: The user is asking for cooking instructions, specifically how to make a sandwich. I can provide a general guide on how to make a sandwich. I don't need to use any tools for this question.\n",
      "\n",
      "Thought: I now know the final answer.\n",
      "\n",
      "Final Answer: To make a sandwich, you'll need two slices of bread. Spread your desired condiments on one or both slices. Add your preferred fillings, such as deli meats, cheeses, vegetables, or spreads. Put the second slice of bread on top, press down gently, and slice the sandwich in half if desired. Serve immediately. Enjoy your sandwich!\u001b[0m\n",
      "\n",
      "\u001b[1m> Finished chain.\u001b[0m\n"
     ]
    }
   ],
   "source": [
    "result = agent_executor.invoke({\"input\": \"How to make sandwich\"})"
   ]
  },
  {
   "cell_type": "markdown",
   "metadata": {},
   "source": [
    "Extracting the Final Answer from a Result String"
   ]
  },
  {
   "cell_type": "code",
   "execution_count": 31,
   "metadata": {},
   "outputs": [
    {
     "name": "stdout",
     "output_type": "stream",
     "text": [
      "237\n",
      "To make a sandwich, you'll need two slices of bread. Spread your desired condiments on one or both slices. Add your preferred fillings, such as deli meats, cheeses, vegetables, or spreads. Put the second slice of bread on top, press down gently, and slice the sandwich in half if desired. Serve immediately. Enjoy your sandwich!\n"
     ]
    }
   ],
   "source": [
    "# Convert the 'output' field from the 'result' dictionary to a string\n",
    "result = str(result['output'])\n",
    "\n",
    "# Define the marker indicating the start of the final answer\n",
    "start_marker = \"Final Answer:\"\n",
    "\n",
    "# Find the index where the start_marker appears in the result string\n",
    "start_index = result.find(start_marker)\n",
    "print(start_index)  # Print the index of the start_marker (for debugging purposes)\n",
    "\n",
    "# Check if the start_marker is found in the result string\n",
    "if start_index != -1:\n",
    "    # Extract the substring that comes after the start_marker and strip any leading/trailing whitespace\n",
    "    result = result[start_index + len(start_marker):].strip()\n",
    "else:\n",
    "    # If the start_marker is not found, set result to an empty string\n",
    "    result = \"\"\n",
    "\n",
    "# Print the final extracted result\n",
    "print(result)"
   ]
  }
 ],
 "metadata": {
  "kernelspec": {
   "display_name": "Python 3",
   "language": "python",
   "name": "python3"
  },
  "language_info": {
   "codemirror_mode": {
    "name": "ipython",
    "version": 3
   },
   "file_extension": ".py",
   "mimetype": "text/x-python",
   "name": "python",
   "nbconvert_exporter": "python",
   "pygments_lexer": "ipython3",
   "version": "3.10.14"
  }
 },
 "nbformat": 4,
 "nbformat_minor": 2
}
